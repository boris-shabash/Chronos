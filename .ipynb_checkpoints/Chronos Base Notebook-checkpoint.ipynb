{
 "cells": [
  {
   "cell_type": "markdown",
   "metadata": {},
   "source": [
    "# Chronos - Basic Usage"
   ]
  },
  {
   "cell_type": "code",
   "execution_count": null,
   "metadata": {},
   "outputs": [],
   "source": [
    "import pandas as pd\n",
    "import matplotlib.pyplot as plt\n",
    "\n",
    "import numpy as np\n",
    "\n",
    "from chronos import Chronos\n",
    "\n",
    "import chronos_plotting"
   ]
  },
  {
   "cell_type": "code",
   "execution_count": null,
   "metadata": {},
   "outputs": [],
   "source": [
    "x = np.array(range(365*4))\n",
    "my_df = pd.DataFrame({\"ds\": pd.date_range(start=\"2016-01-01\", periods=365*4, freq='d'),\n",
    "                      \"y\": 0.01 * x + np.sin(x/30)})\n",
    "print(my_df.head())"
   ]
  },
  {
   "cell_type": "code",
   "execution_count": null,
   "metadata": {},
   "outputs": [],
   "source": [
    "plt.figure(figsize=(15,5))\n",
    "plt.scatter(my_df['ds'], my_df['y'], c=\"blue\")\n",
    "plt.show()"
   ]
  },
  {
   "cell_type": "code",
   "execution_count": null,
   "metadata": {},
   "outputs": [],
   "source": [
    "my_chronos = Chronos()\n",
    "my_chronos.fit(my_df)"
   ]
  },
  {
   "cell_type": "code",
   "execution_count": null,
   "metadata": {},
   "outputs": [],
   "source": [
    "predictions = my_chronos.predict(sample_number=1000, period=31)"
   ]
  },
  {
   "cell_type": "code",
   "execution_count": null,
   "metadata": {},
   "outputs": [],
   "source": [
    "chronos_plotting.plot_components(predictions, my_chronos);"
   ]
  },
  {
   "cell_type": "code",
   "execution_count": null,
   "metadata": {},
   "outputs": [],
   "source": []
  },
  {
   "cell_type": "code",
   "execution_count": null,
   "metadata": {},
   "outputs": [],
   "source": [
    "import pandas as pd\n",
    "import matplotlib.pyplot as plt\n",
    "\n",
    "import numpy as np"
   ]
  },
  {
   "cell_type": "code",
   "execution_count": null,
   "metadata": {},
   "outputs": [],
   "source": [
    "my_ts_data = pd.read_csv('data/prophetData.csv')\n",
    "my_ts_data['ds'] = pd.to_datetime(my_ts_data['ds'])\n",
    "my_ts_data.head()"
   ]
  },
  {
   "cell_type": "code",
   "execution_count": null,
   "metadata": {},
   "outputs": [],
   "source": [
    "my_ts_data.shape"
   ]
  },
  {
   "cell_type": "code",
   "execution_count": null,
   "metadata": {},
   "outputs": [],
   "source": [
    "plt.figure(figsize=(15,5))\n",
    "plt.scatter(my_ts_data['ds'], my_ts_data['y'], c=\"blue\")\n",
    "plt.xlabel(\"Date\", size=16)\n",
    "plt.ylabel(\"LOG(page_views)\", size=16)\n",
    "plt.title(f\"LOG(page view) for Peyton Manning from 2007-2016\", size=20)\n",
    "plt.savefig(\"Time Series v1 t-distribution.png\", dpi=96*4)\n",
    "plt.show()"
   ]
  },
  {
   "cell_type": "code",
   "execution_count": null,
   "metadata": {},
   "outputs": [],
   "source": [
    "from chronos import Chronos\n",
    "import chronos_plotting"
   ]
  },
  {
   "cell_type": "code",
   "execution_count": null,
   "metadata": {},
   "outputs": [],
   "source": [
    "my_chronos = Chronos(method=\"MAP\", \n",
    "                     max_iter=100, \n",
    "                     learning_rate=0.001,\n",
    "                     distribution=\"StudentT\", \n",
    "                     seasonality_mode=\"add\")\n",
    "my_chronos.fit(my_ts_data)"
   ]
  },
  {
   "cell_type": "code",
   "execution_count": null,
   "metadata": {},
   "outputs": [],
   "source": [
    "future_df = my_chronos.make_future_dataframe(period=365)"
   ]
  },
  {
   "cell_type": "code",
   "execution_count": null,
   "metadata": {},
   "outputs": [],
   "source": [
    "predictions = my_chronos.predict(future_df, sample_number=100)\n",
    "predictions.head()"
   ]
  },
  {
   "cell_type": "code",
   "execution_count": null,
   "metadata": {},
   "outputs": [],
   "source": []
  },
  {
   "cell_type": "code",
   "execution_count": null,
   "metadata": {},
   "outputs": [],
   "source": [
    "chronos_plotting.plot_components(predictions, my_chronos);"
   ]
  },
  {
   "cell_type": "code",
   "execution_count": null,
   "metadata": {},
   "outputs": [],
   "source": []
  },
  {
   "cell_type": "code",
   "execution_count": null,
   "metadata": {},
   "outputs": [],
   "source": [
    "chronos_plotting.plot_components(predictions);"
   ]
  },
  {
   "cell_type": "code",
   "execution_count": null,
   "metadata": {},
   "outputs": [],
   "source": [
    "#assert(False)"
   ]
  },
  {
   "cell_type": "code",
   "execution_count": null,
   "metadata": {},
   "outputs": [],
   "source": []
  },
  {
   "cell_type": "code",
   "execution_count": null,
   "metadata": {},
   "outputs": [],
   "source": []
  },
  {
   "cell_type": "code",
   "execution_count": null,
   "metadata": {},
   "outputs": [],
   "source": []
  },
  {
   "cell_type": "markdown",
   "metadata": {},
   "source": [
    "## Bike Sharing Data\n",
    "\n",
    "Coming from Chicago: https://www.kaggle.com/yingwurenjian/chicago-divvy-bicycle-sharing-data?select=data.csv"
   ]
  },
  {
   "cell_type": "code",
   "execution_count": null,
   "metadata": {},
   "outputs": [],
   "source": [
    "import pandas as pd\n",
    "import matplotlib.pyplot as plt\n",
    "import matplotlib.gridspec as gridspec\n",
    "import numpy as np\n",
    "\n",
    "from chronos import Chronos\n",
    "import chronos_plotting"
   ]
  },
  {
   "cell_type": "code",
   "execution_count": null,
   "metadata": {},
   "outputs": [],
   "source": [
    "bike_data = pd.read_csv('data/data.csv')\n",
    "bike_data.head()"
   ]
  },
  {
   "cell_type": "code",
   "execution_count": null,
   "metadata": {},
   "outputs": [],
   "source": [
    "relevant_data = bike_data[['starttime', 'trip_id']]\n",
    "relevant_data['starttime'] = pd.to_datetime(relevant_data['starttime'])\n",
    "relevant_data"
   ]
  },
  {
   "cell_type": "code",
   "execution_count": null,
   "metadata": {},
   "outputs": [],
   "source": [
    "relevant_data['date'] = relevant_data['starttime'].dt.date\n",
    "relevant_data.head()"
   ]
  },
  {
   "cell_type": "code",
   "execution_count": null,
   "metadata": {},
   "outputs": [],
   "source": [
    "grouped_data = relevant_data.groupby('date').sum().reset_index()\n",
    "grouped_data.columns = ['ds', 'y']\n",
    "grouped_data['ds'] = pd.to_datetime(grouped_data['ds'])\n",
    "grouped_data.head()"
   ]
  },
  {
   "cell_type": "code",
   "execution_count": null,
   "metadata": {},
   "outputs": [],
   "source": [
    "plt.figure(figsize=(15,5))\n",
    "plt.scatter(grouped_data['ds'], grouped_data['y'], c=\"blue\")\n",
    "plt.xlabel(\"Date\", size=16)\n",
    "plt.ylabel(\"Trips\", size=16)\n",
    "plt.title(f\"Trip Number Taken from Chicago's Divvy Bike Sharing Program\", size=20)\n",
    "plt.show()"
   ]
  },
  {
   "cell_type": "code",
   "execution_count": null,
   "metadata": {},
   "outputs": [],
   "source": [
    "my_chronos = Chronos(method=\"MAP\", max_iter=2000, \n",
    "                     learning_rate=0.01, \n",
    "                     n_changepoints=25,\n",
    "                     changepoint_range=0.8,\n",
    "                     changepoint_prior_scale=0.1,\n",
    "                     distribution=\"Gamma\",\n",
    "                     seasonality_mode=\"mul\")\n",
    "my_chronos.fit(grouped_data)"
   ]
  },
  {
   "cell_type": "code",
   "execution_count": null,
   "metadata": {},
   "outputs": [],
   "source": [
    "predictions = my_chronos.predict(sample_number=1000, frequency='D', ci_interval=0.95, period=365)"
   ]
  },
  {
   "cell_type": "code",
   "execution_count": null,
   "metadata": {
    "scrolled": false
   },
   "outputs": [],
   "source": [
    "chronos_plotting.plot_components(predictions, \n",
    "                                 my_chronos, \n",
    "                                 changepoint_threshold=0.0, \n",
    "                                 figure_name=\"Divvy components.png\");"
   ]
  },
  {
   "cell_type": "code",
   "execution_count": null,
   "metadata": {},
   "outputs": [],
   "source": [
    "fig = plt.figure(tight_layout=True, figsize=(15,5))\n",
    "gs = gridspec.GridSpec(1, 1)\n",
    "chronos_plotting.plot_predictions(predictions, fig=fig, gs_section=gs[0, :])\n",
    "plt.title(\"Divvy Bike Sharing Modeled Using a Gamma Distribution\", size=18)\n",
    "plt.show();"
   ]
  },
  {
   "cell_type": "code",
   "execution_count": null,
   "metadata": {},
   "outputs": [],
   "source": [
    "my_chronos = Chronos(method=\"MAP\", max_iter=2000, \n",
    "                     learning_rate=0.1, \n",
    "                     n_changepoints=25,\n",
    "                     changepoint_range=0.9,\n",
    "                     changepoint_prior_scale=0.1,\n",
    "                     distribution=\"Normal\",\n",
    "                     seasonality_mode=\"mul\")\n",
    "my_chronos.fit(grouped_data)"
   ]
  },
  {
   "cell_type": "code",
   "execution_count": null,
   "metadata": {},
   "outputs": [],
   "source": [
    "predictions = my_chronos.predict(sample_number=1000, frequency='B', ci_interval=0.95, period=365)"
   ]
  },
  {
   "cell_type": "code",
   "execution_count": null,
   "metadata": {},
   "outputs": [],
   "source": [
    "fig = plt.figure(tight_layout=True, figsize=(15,5))\n",
    "gs = gridspec.GridSpec(1, 1)\n",
    "chronos_plotting.plot_predictions(predictions, fig=fig, gs_section=gs[0, :])\n",
    "plt.title(\"Divvy Bike Sharing Modeled Using a Normal Distribution\", size=18)\n",
    "plt.show();"
   ]
  },
  {
   "cell_type": "code",
   "execution_count": null,
   "metadata": {},
   "outputs": [],
   "source": []
  },
  {
   "cell_type": "code",
   "execution_count": null,
   "metadata": {},
   "outputs": [],
   "source": []
  },
  {
   "cell_type": "code",
   "execution_count": null,
   "metadata": {},
   "outputs": [],
   "source": []
  },
  {
   "cell_type": "markdown",
   "metadata": {},
   "source": [
    "## COVID"
   ]
  },
  {
   "cell_type": "code",
   "execution_count": null,
   "metadata": {},
   "outputs": [],
   "source": [
    "import pandas as pd\n",
    "import matplotlib.pyplot as plt\n",
    "import numpy as np\n",
    "\n",
    "from chronos import Chronos"
   ]
  },
  {
   "cell_type": "code",
   "execution_count": null,
   "metadata": {},
   "outputs": [],
   "source": [
    "covid_data = pd.read_csv('data/covid19-download.csv')\n",
    "covid_data.head(2)"
   ]
  },
  {
   "cell_type": "code",
   "execution_count": null,
   "metadata": {},
   "outputs": [],
   "source": [
    "#canada_mask = covid_data['prname'] == 'British Columbia'\n",
    "canada_mask = covid_data['prname'] == 'Ontario'\n",
    "desired_columns = ['date', 'numtoday']\n",
    "\n",
    "canada_daily_covid = covid_data[desired_columns].loc[canada_mask]\n",
    "canada_daily_covid.head()"
   ]
  },
  {
   "cell_type": "code",
   "execution_count": null,
   "metadata": {},
   "outputs": [],
   "source": [
    "canada_daily_covid.rename({'date': 'ds', 'numtoday': 'y'}, axis=1, inplace=True)\n",
    "canada_daily_covid['ds'] = pd.to_datetime(canada_daily_covid['ds'])\n",
    "#canada_daily_covid['y'] /= canada_daily_covid['y'].max()\n",
    "canada_daily_covid = canada_daily_covid[canada_daily_covid['y']> 0]\n",
    "canada_daily_covid.head()\n"
   ]
  },
  {
   "cell_type": "code",
   "execution_count": null,
   "metadata": {},
   "outputs": [],
   "source": [
    "canada_daily_covid['y']"
   ]
  },
  {
   "cell_type": "code",
   "execution_count": null,
   "metadata": {},
   "outputs": [],
   "source": [
    "canada_daily_covid['ds'].dt.day_name().isin([\"Sunday\", \"Saturday\"]).sum()/canada_daily_covid['ds'].shape[0]"
   ]
  },
  {
   "cell_type": "code",
   "execution_count": null,
   "metadata": {},
   "outputs": [],
   "source": [
    "plt.figure(figsize=(15,5))\n",
    "plt.scatter(canada_daily_covid['ds'], canada_daily_covid['y'], c=\"blue\")\n",
    "plt.xlabel(\"Date\", size=16)\n",
    "plt.ylabel(\"Cases\", size=16)\n",
    "plt.title(f\"Case Numbers for COVID-19 in Canada\", size=20)\n",
    "plt.show()"
   ]
  },
  {
   "cell_type": "code",
   "execution_count": null,
   "metadata": {},
   "outputs": [],
   "source": [
    "my_chronos = Chronos(method=\"MAP\", max_iter=2000, \n",
    "                     learning_rate=0.001, \n",
    "                     n_changepoints=25,\n",
    "                     changepoint_range=0.9,\n",
    "                     changepoint_prior_scale=10.0,\n",
    "                     distribution=\"Gamma\",\n",
    "                     seasonality_mode=\"mul\",\n",
    "                     year_seasonality_order=0,\n",
    "                     weekly_seasonality_order=6,\n",
    "                     month_seasonality_order=0)#, weekly_seasonality_order=0, month_seasonality_order=0)\n",
    "my_chronos.fit(canada_daily_covid)"
   ]
  },
  {
   "cell_type": "code",
   "execution_count": null,
   "metadata": {},
   "outputs": [],
   "source": [
    "predictions = my_chronos.predict(sample_number=1000, frequency='B', ci_interval=0.95, period=60)"
   ]
  },
  {
   "cell_type": "code",
   "execution_count": null,
   "metadata": {},
   "outputs": [],
   "source": [
    "chronos_plotting.plot_components(predictions, my_chronos, changepoint_threshold=0.0, figure_name=\"COVID components.png\");"
   ]
  },
  {
   "cell_type": "code",
   "execution_count": null,
   "metadata": {},
   "outputs": [],
   "source": []
  },
  {
   "cell_type": "code",
   "execution_count": null,
   "metadata": {},
   "outputs": [],
   "source": []
  },
  {
   "cell_type": "markdown",
   "metadata": {},
   "source": [
    "## AAPL stocks"
   ]
  },
  {
   "cell_type": "code",
   "execution_count": null,
   "metadata": {},
   "outputs": [],
   "source": [
    "import pandas as pd\n",
    "import matplotlib.pyplot as plt\n",
    "import numpy as np\n",
    "\n",
    "from chronos import Chronos\n",
    "import chronos_plotting"
   ]
  },
  {
   "cell_type": "code",
   "execution_count": null,
   "metadata": {},
   "outputs": [],
   "source": [
    "my_ts_data = pd.read_csv('data/AAPL.csv')\n",
    "my_ts_data = my_ts_data[['Date', 'Adj Close']]\n",
    "my_ts_data.columns = ['ds', 'y']\n",
    "#my_ts_data['y'] = 100*my_ts_data['y'].pct_change()\n",
    "my_ts_data.dropna(inplace=True)\n",
    "my_ts_data['ds'] = pd.to_datetime(my_ts_data['ds'])\n",
    "my_ts_data.head()"
   ]
  },
  {
   "cell_type": "code",
   "execution_count": null,
   "metadata": {},
   "outputs": [],
   "source": [
    "plt.figure(figsize=(15,5))\n",
    "plt.scatter(my_ts_data['ds'], my_ts_data['y'], c=\"blue\")\n",
    "plt.xlabel(\"Date\", size=16)\n",
    "plt.ylabel(\"Price\", size=16)\n",
    "plt.title(f\"AAPL Price over 2019-2020\", size=20)\n",
    "plt.show()"
   ]
  },
  {
   "cell_type": "code",
   "execution_count": null,
   "metadata": {},
   "outputs": [],
   "source": [
    "my_chronos = Chronos(method=\"MLE\", max_iter=2000, \n",
    "                     learning_rate=0.0001, \n",
    "                     n_changepoints=25,\n",
    "                     seasonality_mode=\"mul\",\n",
    "                     distribution=\"StudentT\",\n",
    "                     year_seasonality_order=0)\n",
    "my_chronos.fit(my_ts_data)"
   ]
  },
  {
   "cell_type": "code",
   "execution_count": null,
   "metadata": {},
   "outputs": [],
   "source": [
    "future_df = my_chronos.make_future_dataframe(period=62, frequency='B')\n",
    "future_df"
   ]
  },
  {
   "cell_type": "code",
   "execution_count": null,
   "metadata": {},
   "outputs": [],
   "source": [
    "predictions = my_chronos.predict(future_df, sample_number=1000)\n",
    "predictions.head()"
   ]
  },
  {
   "cell_type": "code",
   "execution_count": null,
   "metadata": {},
   "outputs": [],
   "source": [
    "chronos_plotting.plot_components(predictions, my_chronos, figure_name=\"AAPL.png\", changepoint_threshold=0.3);"
   ]
  },
  {
   "cell_type": "code",
   "execution_count": null,
   "metadata": {},
   "outputs": [],
   "source": []
  },
  {
   "cell_type": "code",
   "execution_count": null,
   "metadata": {},
   "outputs": [],
   "source": []
  }
 ],
 "metadata": {
  "hide_input": false,
  "kernelspec": {
   "display_name": "Python 3",
   "language": "python",
   "name": "python3"
  },
  "language_info": {
   "codemirror_mode": {
    "name": "ipython",
    "version": 3
   },
   "file_extension": ".py",
   "mimetype": "text/x-python",
   "name": "python",
   "nbconvert_exporter": "python",
   "pygments_lexer": "ipython3",
   "version": "3.8.3"
  }
 },
 "nbformat": 4,
 "nbformat_minor": 4
}
