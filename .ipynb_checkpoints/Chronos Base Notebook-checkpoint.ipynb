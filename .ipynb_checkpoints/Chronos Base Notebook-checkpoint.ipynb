{
 "cells": [
  {
   "cell_type": "markdown",
   "metadata": {},
   "source": [
    "# Chronos - Basic Usage"
   ]
  },
  {
   "cell_type": "code",
   "execution_count": null,
   "metadata": {},
   "outputs": [],
   "source": [
    "import pandas as pd\n",
    "import matplotlib.pyplot as plt\n",
    "\n",
    "import numpy as np\n",
    "\n",
    "from chronos import Chronos\n",
    "\n",
    "import chronos_plotting"
   ]
  },
  {
   "cell_type": "code",
   "execution_count": null,
   "metadata": {},
   "outputs": [],
   "source": [
    "x = np.array(range(365*4))\n",
    "my_df = pd.DataFrame({\"ds\": pd.date_range(start=\"2016-01-01\", periods=365*4, freq='d'),\n",
    "                      \"y\": 0.01 * x + np.sin(x/30)})\n",
    "print(my_df.head())"
   ]
  },
  {
   "cell_type": "code",
   "execution_count": null,
   "metadata": {},
   "outputs": [],
   "source": [
    "plt.figure(figsize=(15,5))\n",
    "plt.scatter(my_df['ds'], my_df['y'], c=\"blue\")\n",
    "plt.show()"
   ]
  },
  {
   "cell_type": "code",
   "execution_count": null,
   "metadata": {},
   "outputs": [],
   "source": [
    "z = my_df.index.values\n",
    "dummy1 = 0.01 * z\n",
    "dummy2 = np.sin(z/30)\n",
    "my_df['dummy1'] = dummy1\n",
    "my_df['dummy2'] = dummy2\n",
    "my_df.head()"
   ]
  },
  {
   "cell_type": "code",
   "execution_count": null,
   "metadata": {},
   "outputs": [],
   "source": [
    "my_chronos = Chronos(max_iter=1000, learning_rate=0.001, distribution='Gamma')\n",
    "my_chronos.add_regressors(regressor_name=\"dummy1\", regressor_method=\"add\")\n",
    "my_chronos.add_regressors(regressor_name=\"dummy2\", regressor_method=\"add\")\n"
   ]
  },
  {
   "cell_type": "code",
   "execution_count": null,
   "metadata": {},
   "outputs": [],
   "source": [
    "my_chronos.fit(my_df)"
   ]
  },
  {
   "cell_type": "code",
   "execution_count": null,
   "metadata": {},
   "outputs": [],
   "source": [
    "future_df = my_chronos.make_future_dataframe(period=365)\n",
    "z = future_df.index.values\n",
    "dummy1 = 0.01 * z\n",
    "dummy2 = np.sin(z/30)\n",
    "future_df['dummy1'] = dummy1\n",
    "future_df['dummy2'] = dummy2\n",
    "\n",
    "future_df.tail()"
   ]
  },
  {
   "cell_type": "code",
   "execution_count": null,
   "metadata": {},
   "outputs": [],
   "source": [
    "predictions = my_chronos.predict(future_df, sample_number=1000)#, period=31)"
   ]
  },
  {
   "cell_type": "code",
   "execution_count": null,
   "metadata": {},
   "outputs": [],
   "source": [
    "chronos_plotting.plot_components(predictions, my_chronos);"
   ]
  },
  {
   "cell_type": "code",
   "execution_count": null,
   "metadata": {},
   "outputs": [],
   "source": []
  },
  {
   "cell_type": "code",
   "execution_count": null,
   "metadata": {},
   "outputs": [],
   "source": [
    "import pandas as pd\n",
    "import matplotlib.pyplot as plt\n",
    "\n",
    "import numpy as np"
   ]
  },
  {
   "cell_type": "code",
   "execution_count": null,
   "metadata": {},
   "outputs": [],
   "source": [
    "my_ts_data = pd.read_csv('data/prophetData.csv')\n",
    "my_ts_data['ds'] = pd.to_datetime(my_ts_data['ds'])\n",
    "my_ts_data.head()"
   ]
  },
  {
   "cell_type": "code",
   "execution_count": null,
   "metadata": {},
   "outputs": [],
   "source": [
    "my_ts_data.shape"
   ]
  },
  {
   "cell_type": "code",
   "execution_count": null,
   "metadata": {},
   "outputs": [],
   "source": [
    "plt.figure(figsize=(15,5))\n",
    "plt.scatter(my_ts_data['ds'], my_ts_data['y'], c=\"blue\")\n",
    "plt.xlabel(\"Date\", size=16)\n",
    "plt.ylabel(\"LOG(page_views)\", size=16)\n",
    "plt.title(f\"LOG(page view) for Peyton Manning from 2007-2016\", size=20)\n",
    "plt.savefig(\"Time Series v1 t-distribution.png\", dpi=96*4)\n",
    "plt.show()"
   ]
  },
  {
   "cell_type": "code",
   "execution_count": null,
   "metadata": {},
   "outputs": [],
   "source": [
    "from chronos import Chronos\n",
    "import chronos_plotting"
   ]
  },
  {
   "cell_type": "code",
   "execution_count": null,
   "metadata": {},
   "outputs": [],
   "source": [
    "my_chronos = Chronos(method=\"MAP\", \n",
    "                     max_iter=1000, \n",
    "                     learning_rate=0.001,\n",
    "                     distribution=\"Normal\", \n",
    "                     seasonality_mode=\"mul\")\n",
    "#my_chronos.add_regressors(\"dummy\", regressor_method=\"add\")\n",
    "#my_ts_data[\"dummy\"] = my_ts_data[\"y\"].copy()\n",
    "\n",
    "my_chronos.fit(my_ts_data)"
   ]
  },
  {
   "cell_type": "code",
   "execution_count": null,
   "metadata": {},
   "outputs": [],
   "source": [
    "future_df = my_chronos.make_future_dataframe(period=365*2)\n",
    "#future_df['dummy'] = future_df['dummy'].fillna(8.0)\n",
    "future_df.tail()"
   ]
  },
  {
   "cell_type": "code",
   "execution_count": null,
   "metadata": {},
   "outputs": [],
   "source": [
    "predictions = my_chronos.predict(future_df, sample_number=100)\n",
    "predictions.head()"
   ]
  },
  {
   "cell_type": "code",
   "execution_count": null,
   "metadata": {},
   "outputs": [],
   "source": []
  },
  {
   "cell_type": "code",
   "execution_count": null,
   "metadata": {},
   "outputs": [],
   "source": [
    "chronos_plotting.plot_components(predictions, my_chronos);"
   ]
  },
  {
   "cell_type": "code",
   "execution_count": null,
   "metadata": {},
   "outputs": [],
   "source": []
  },
  {
   "cell_type": "code",
   "execution_count": null,
   "metadata": {},
   "outputs": [],
   "source": [
    "chronos_plotting.plot_components(predictions);"
   ]
  },
  {
   "cell_type": "code",
   "execution_count": null,
   "metadata": {},
   "outputs": [],
   "source": [
    "#assert(False)"
   ]
  },
  {
   "cell_type": "code",
   "execution_count": null,
   "metadata": {},
   "outputs": [],
   "source": []
  },
  {
   "cell_type": "code",
   "execution_count": null,
   "metadata": {},
   "outputs": [],
   "source": []
  },
  {
   "cell_type": "code",
   "execution_count": null,
   "metadata": {},
   "outputs": [],
   "source": []
  },
  {
   "cell_type": "markdown",
   "metadata": {},
   "source": [
    "## Bike Sharing Data\n",
    "\n",
    "Coming from Chicago: https://www.kaggle.com/yingwurenjian/chicago-divvy-bicycle-sharing-data?select=data.csv"
   ]
  },
  {
   "cell_type": "code",
   "execution_count": null,
   "metadata": {},
   "outputs": [],
   "source": [
    "import pandas as pd\n",
    "import matplotlib.pyplot as plt\n",
    "import matplotlib.gridspec as gridspec\n",
    "import numpy as np\n",
    "\n",
    "from chronos import Chronos\n",
    "import chronos_plotting"
   ]
  },
  {
   "cell_type": "code",
   "execution_count": null,
   "metadata": {},
   "outputs": [],
   "source": [
    "bike_data = pd.read_csv('data/data.csv')\n",
    "bike_data.head()"
   ]
  },
  {
   "cell_type": "code",
   "execution_count": null,
   "metadata": {},
   "outputs": [],
   "source": [
    "relevant_data = bike_data[['starttime', 'trip_id']]\n",
    "relevant_data['starttime'] = pd.to_datetime(relevant_data['starttime'])\n",
    "relevant_data"
   ]
  },
  {
   "cell_type": "code",
   "execution_count": null,
   "metadata": {},
   "outputs": [],
   "source": [
    "relevant_data['date'] = relevant_data['starttime'].dt.date\n",
    "relevant_data.head()"
   ]
  },
  {
   "cell_type": "code",
   "execution_count": null,
   "metadata": {},
   "outputs": [],
   "source": [
    "grouped_data = relevant_data.groupby('date').sum().reset_index()\n",
    "grouped_data.columns = ['ds', 'y']\n",
    "grouped_data['ds'] = pd.to_datetime(grouped_data['ds'])\n",
    "grouped_data.head()"
   ]
  },
  {
   "cell_type": "code",
   "execution_count": null,
   "metadata": {},
   "outputs": [],
   "source": [
    "plt.figure(figsize=(15,5))\n",
    "plt.scatter(grouped_data['ds'], grouped_data['y'], c=\"blue\")\n",
    "plt.xlabel(\"Date\", size=16)\n",
    "plt.ylabel(\"Trips\", size=16)\n",
    "plt.title(f\"Trip Number Taken from Chicago's Divvy Bike Sharing Program\", size=20)\n",
    "plt.show()"
   ]
  },
  {
   "cell_type": "code",
   "execution_count": null,
   "metadata": {},
   "outputs": [],
   "source": [
    "my_chronos = Chronos(method=\"MAP\", max_iter=2000, \n",
    "                     learning_rate=0.01, \n",
    "                     n_changepoints=25,\n",
    "                     changepoint_range=0.8,\n",
    "                     changepoint_prior_scale=0.1,\n",
    "                     distribution=\"Gamma\",\n",
    "                     seasonality_mode=\"mul\")\n",
    "my_chronos.fit(grouped_data)"
   ]
  },
  {
   "cell_type": "code",
   "execution_count": null,
   "metadata": {},
   "outputs": [],
   "source": [
    "predictions = my_chronos.predict(sample_number=1000, frequency='D', ci_interval=0.95, period=365)"
   ]
  },
  {
   "cell_type": "code",
   "execution_count": null,
   "metadata": {
    "scrolled": false
   },
   "outputs": [],
   "source": [
    "chronos_plotting.plot_components(predictions, \n",
    "                                 my_chronos, \n",
    "                                 changepoint_threshold=0.0, \n",
    "                                 figure_name=\"Divvy_components.png\");"
   ]
  },
  {
   "cell_type": "code",
   "execution_count": null,
   "metadata": {},
   "outputs": [],
   "source": []
  },
  {
   "cell_type": "code",
   "execution_count": null,
   "metadata": {},
   "outputs": [],
   "source": [
    "fig = plt.figure(tight_layout=True, figsize=(15,5))\n",
    "gs = gridspec.GridSpec(1, 1)\n",
    "chronos_plotting.plot_predictions(predictions, fig=fig, gs_section=gs[0, :])\n",
    "plt.title(\"Divvy Bike Sharing Modeled Using a Gamma Distribution\", size=18)\n",
    "plt.show();"
   ]
  },
  {
   "cell_type": "code",
   "execution_count": null,
   "metadata": {},
   "outputs": [],
   "source": [
    "my_chronos = Chronos(method=\"MAP\", max_iter=2000, \n",
    "                     learning_rate=0.1, \n",
    "                     n_changepoints=25,\n",
    "                     changepoint_range=0.9,\n",
    "                     changepoint_prior_scale=0.1,\n",
    "                     distribution=\"Normal\",\n",
    "                     seasonality_mode=\"mul\")\n",
    "my_chronos.fit(grouped_data)"
   ]
  },
  {
   "cell_type": "code",
   "execution_count": null,
   "metadata": {},
   "outputs": [],
   "source": [
    "predictions = my_chronos.predict(sample_number=1000, frequency='B', ci_interval=0.95, period=365)"
   ]
  },
  {
   "cell_type": "code",
   "execution_count": null,
   "metadata": {},
   "outputs": [],
   "source": [
    "fig = plt.figure(tight_layout=True, figsize=(15,5))\n",
    "gs = gridspec.GridSpec(1, 1)\n",
    "chronos_plotting.plot_predictions(predictions, fig=fig, gs_section=gs[0, :])\n",
    "plt.title(\"Divvy Bike Sharing Modeled Using a Normal Distribution\", size=18)\n",
    "plt.show();"
   ]
  },
  {
   "cell_type": "code",
   "execution_count": null,
   "metadata": {},
   "outputs": [],
   "source": []
  },
  {
   "cell_type": "code",
   "execution_count": null,
   "metadata": {},
   "outputs": [],
   "source": []
  },
  {
   "cell_type": "code",
   "execution_count": null,
   "metadata": {},
   "outputs": [],
   "source": []
  },
  {
   "cell_type": "markdown",
   "metadata": {},
   "source": [
    "## COVID"
   ]
  },
  {
   "cell_type": "code",
   "execution_count": null,
   "metadata": {},
   "outputs": [],
   "source": [
    "import pandas as pd\n",
    "import matplotlib.pyplot as plt\n",
    "import numpy as np\n",
    "\n",
    "from chronos import Chronos"
   ]
  },
  {
   "cell_type": "code",
   "execution_count": null,
   "metadata": {},
   "outputs": [],
   "source": [
    "covid_data = pd.read_csv('data/COVID_19_Canada.csv')\n",
    "covid_data.head(2)"
   ]
  },
  {
   "cell_type": "code",
   "execution_count": null,
   "metadata": {},
   "outputs": [],
   "source": [
    "#canada_mask = covid_data['prname'] == 'British Columbia'\n",
    "canada_mask = covid_data['prname'] == 'Canada'\n",
    "desired_columns = ['date', 'numtoday']\n",
    "\n",
    "canada_daily_covid = covid_data[desired_columns].loc[canada_mask]\n",
    "canada_daily_covid.head()"
   ]
  },
  {
   "cell_type": "code",
   "execution_count": null,
   "metadata": {},
   "outputs": [],
   "source": [
    "canada_daily_covid.rename({'date': 'ds', 'numtoday': 'y'}, axis=1, inplace=True)\n",
    "canada_daily_covid['ds'] = pd.to_datetime(canada_daily_covid['ds'])\n",
    "#canada_daily_covid['y'] /= canada_daily_covid['y'].max()\n",
    "canada_daily_covid = canada_daily_covid[canada_daily_covid['y']> 0]\n",
    "canada_daily_covid.head()\n"
   ]
  },
  {
   "cell_type": "code",
   "execution_count": null,
   "metadata": {},
   "outputs": [],
   "source": [
    "canada_daily_covid['y']"
   ]
  },
  {
   "cell_type": "code",
   "execution_count": null,
   "metadata": {},
   "outputs": [],
   "source": [
    "canada_daily_covid['ds'].dt.day_name().isin([\"Sunday\", \"Saturday\"]).sum()/canada_daily_covid['ds'].shape[0]"
   ]
  },
  {
   "cell_type": "code",
   "execution_count": null,
   "metadata": {},
   "outputs": [],
   "source": [
    "plt.figure(figsize=(15,5))\n",
    "plt.scatter(canada_daily_covid['ds'], canada_daily_covid['y'], c=\"blue\")\n",
    "plt.xlabel(\"Date\", size=16)\n",
    "plt.ylabel(\"Cases\", size=16)\n",
    "plt.title(f\"Case Numbers for COVID-19 in Canada\", size=20)\n",
    "plt.show()"
   ]
  },
  {
   "cell_type": "code",
   "execution_count": null,
   "metadata": {},
   "outputs": [],
   "source": [
    "my_chronos = Chronos(method=\"MAP\", max_iter=2000, \n",
    "                     learning_rate=0.001, \n",
    "                     n_changepoints=25,\n",
    "                     changepoint_range=0.9,\n",
    "                     changepoint_prior_scale=10.0,\n",
    "                     distribution=\"Gamma\",\n",
    "                     seasonality_mode=\"mul\",\n",
    "                     year_seasonality_order=0,\n",
    "                     weekly_seasonality_order=6,\n",
    "                     month_seasonality_order=0)#, weekly_seasonality_order=0, month_seasonality_order=0)\n",
    "my_chronos.fit(canada_daily_covid)"
   ]
  },
  {
   "cell_type": "code",
   "execution_count": null,
   "metadata": {},
   "outputs": [],
   "source": [
    "predictions = my_chronos.predict(sample_number=1000, frequency='B', ci_interval=0.95, period=31)"
   ]
  },
  {
   "cell_type": "code",
   "execution_count": null,
   "metadata": {},
   "outputs": [],
   "source": [
    "chronos_plotting.plot_components(predictions, my_chronos, changepoint_threshold=0.0, figure_name=\"COVID components.png\");"
   ]
  },
  {
   "cell_type": "code",
   "execution_count": null,
   "metadata": {},
   "outputs": [],
   "source": []
  },
  {
   "cell_type": "code",
   "execution_count": null,
   "metadata": {},
   "outputs": [],
   "source": []
  },
  {
   "cell_type": "markdown",
   "metadata": {},
   "source": [
    "## AAPL stocks"
   ]
  },
  {
   "cell_type": "code",
   "execution_count": 1,
   "metadata": {},
   "outputs": [],
   "source": [
    "import pandas as pd\n",
    "import matplotlib.pyplot as plt\n",
    "import numpy as np\n",
    "\n",
    "from chronos import Chronos\n",
    "import chronos_plotting"
   ]
  },
  {
   "cell_type": "code",
   "execution_count": 2,
   "metadata": {},
   "outputs": [
    {
     "data": {
      "text/html": [
       "<div>\n",
       "<style scoped>\n",
       "    .dataframe tbody tr th:only-of-type {\n",
       "        vertical-align: middle;\n",
       "    }\n",
       "\n",
       "    .dataframe tbody tr th {\n",
       "        vertical-align: top;\n",
       "    }\n",
       "\n",
       "    .dataframe thead th {\n",
       "        text-align: right;\n",
       "    }\n",
       "</style>\n",
       "<table border=\"1\" class=\"dataframe\">\n",
       "  <thead>\n",
       "    <tr style=\"text-align: right;\">\n",
       "      <th></th>\n",
       "      <th>ds</th>\n",
       "      <th>y</th>\n",
       "    </tr>\n",
       "  </thead>\n",
       "  <tbody>\n",
       "    <tr>\n",
       "      <th>0</th>\n",
       "      <td>2018-12-26</td>\n",
       "      <td>38.379425</td>\n",
       "    </tr>\n",
       "    <tr>\n",
       "      <th>1</th>\n",
       "      <td>2018-12-27</td>\n",
       "      <td>38.130344</td>\n",
       "    </tr>\n",
       "    <tr>\n",
       "      <th>2</th>\n",
       "      <td>2018-12-28</td>\n",
       "      <td>38.149883</td>\n",
       "    </tr>\n",
       "    <tr>\n",
       "      <th>3</th>\n",
       "      <td>2018-12-31</td>\n",
       "      <td>38.518612</td>\n",
       "    </tr>\n",
       "    <tr>\n",
       "      <th>4</th>\n",
       "      <td>2019-01-02</td>\n",
       "      <td>38.562561</td>\n",
       "    </tr>\n",
       "  </tbody>\n",
       "</table>\n",
       "</div>"
      ],
      "text/plain": [
       "          ds          y\n",
       "0 2018-12-26  38.379425\n",
       "1 2018-12-27  38.130344\n",
       "2 2018-12-28  38.149883\n",
       "3 2018-12-31  38.518612\n",
       "4 2019-01-02  38.562561"
      ]
     },
     "execution_count": 2,
     "metadata": {},
     "output_type": "execute_result"
    }
   ],
   "source": [
    "my_ts_data = pd.read_csv('data/AAPL.csv')\n",
    "my_ts_data = my_ts_data[['Date', 'Adj Close']]\n",
    "my_ts_data.columns = ['ds', 'y']\n",
    "#my_ts_data['y'] = 100*my_ts_data['y'].pct_change()\n",
    "#my_ts_data['y'] = np.log(my_ts_data['y']+1)\n",
    "my_ts_data.dropna(inplace=True)\n",
    "my_ts_data['ds'] = pd.to_datetime(my_ts_data['ds'])\n",
    "#my_ts_data = my_ts_data.iloc[:-7]\n",
    "my_ts_data.head()"
   ]
  },
  {
   "cell_type": "code",
   "execution_count": null,
   "metadata": {},
   "outputs": [],
   "source": []
  },
  {
   "cell_type": "code",
   "execution_count": 3,
   "metadata": {},
   "outputs": [
    {
     "data": {
      "image/png": "[encoded data removed]",
      "text/plain": [
       "<Figure size 1080x360 with 1 Axes>"
      ]
     },
     "metadata": {
      "needs_background": "light"
     },
     "output_type": "display_data"
    }
   ],
   "source": [
    "plt.figure(figsize=(15,5))\n",
    "plt.scatter(my_ts_data['ds'], my_ts_data['y'], c=\"blue\")\n",
    "plt.xlabel(\"Date\", size=16)\n",
    "plt.ylabel(\"Price\", size=16)\n",
    "plt.title(f\"AAPL Price over 2019-2020\", size=20)\n",
    "plt.show()"
   ]
  },
  {
   "cell_type": "code",
   "execution_count": 4,
   "metadata": {},
   "outputs": [
    {
     "name": "stdout",
     "output_type": "stream",
     "text": [
      "No weekends found in training data, will only consider Monday - Friday\n",
      "Employing Maximum A Posteriori\n",
      "100.0% - ELBO loss: -2.18 | Mean Absolute Error: 2.4559                                             \n"
     ]
    },
    {
     "data": {
      "text/plain": [
       "<chronos.Chronos at 0x1209b3e50>"
      ]
     },
     "execution_count": 4,
     "metadata": {},
     "output_type": "execute_result"
    }
   ],
   "source": [
    "my_chronos = Chronos(method=\"MAP\", max_iter=200, \n",
    "                     learning_rate=0.1, \n",
    "                     n_changepoints=25,\n",
    "                     seasonality_mode=\"mul\",\n",
    "                     changepoint_prior_scale=0.5,\n",
    "                     distribution=\"StudentT\", \n",
    "                     year_seasonality_order=0)\n",
    "my_chronos.fit(my_ts_data)"
   ]
  },
  {
   "cell_type": "code",
   "execution_count": 5,
   "metadata": {},
   "outputs": [
    {
     "data": {
      "text/html": [
       "<div>\n",
       "<style scoped>\n",
       "    .dataframe tbody tr th:only-of-type {\n",
       "        vertical-align: middle;\n",
       "    }\n",
       "\n",
       "    .dataframe tbody tr th {\n",
       "        vertical-align: top;\n",
       "    }\n",
       "\n",
       "    .dataframe thead th {\n",
       "        text-align: right;\n",
       "    }\n",
       "</style>\n",
       "<table border=\"1\" class=\"dataframe\">\n",
       "  <thead>\n",
       "    <tr style=\"text-align: right;\">\n",
       "      <th></th>\n",
       "      <th>ds</th>\n",
       "      <th>y</th>\n",
       "    </tr>\n",
       "  </thead>\n",
       "  <tbody>\n",
       "    <tr>\n",
       "      <th>0</th>\n",
       "      <td>2018-12-26</td>\n",
       "      <td>38.379425</td>\n",
       "    </tr>\n",
       "    <tr>\n",
       "      <th>1</th>\n",
       "      <td>2018-12-27</td>\n",
       "      <td>38.130344</td>\n",
       "    </tr>\n",
       "    <tr>\n",
       "      <th>2</th>\n",
       "      <td>2018-12-28</td>\n",
       "      <td>38.149883</td>\n",
       "    </tr>\n",
       "    <tr>\n",
       "      <th>3</th>\n",
       "      <td>2018-12-31</td>\n",
       "      <td>38.518612</td>\n",
       "    </tr>\n",
       "    <tr>\n",
       "      <th>4</th>\n",
       "      <td>2019-01-02</td>\n",
       "      <td>38.562561</td>\n",
       "    </tr>\n",
       "    <tr>\n",
       "      <th>...</th>\n",
       "      <td>...</td>\n",
       "      <td>...</td>\n",
       "    </tr>\n",
       "    <tr>\n",
       "      <th>531</th>\n",
       "      <td>2021-01-20</td>\n",
       "      <td>NaN</td>\n",
       "    </tr>\n",
       "    <tr>\n",
       "      <th>532</th>\n",
       "      <td>2021-01-21</td>\n",
       "      <td>NaN</td>\n",
       "    </tr>\n",
       "    <tr>\n",
       "      <th>533</th>\n",
       "      <td>2021-01-22</td>\n",
       "      <td>NaN</td>\n",
       "    </tr>\n",
       "    <tr>\n",
       "      <th>534</th>\n",
       "      <td>2021-01-23</td>\n",
       "      <td>NaN</td>\n",
       "    </tr>\n",
       "    <tr>\n",
       "      <th>535</th>\n",
       "      <td>2021-01-24</td>\n",
       "      <td>NaN</td>\n",
       "    </tr>\n",
       "  </tbody>\n",
       "</table>\n",
       "<p>536 rows × 2 columns</p>\n",
       "</div>"
      ],
      "text/plain": [
       "            ds          y\n",
       "0   2018-12-26  38.379425\n",
       "1   2018-12-27  38.130344\n",
       "2   2018-12-28  38.149883\n",
       "3   2018-12-31  38.518612\n",
       "4   2019-01-02  38.562561\n",
       "..         ...        ...\n",
       "531 2021-01-20        NaN\n",
       "532 2021-01-21        NaN\n",
       "533 2021-01-22        NaN\n",
       "534 2021-01-23        NaN\n",
       "535 2021-01-24        NaN\n",
       "\n",
       "[536 rows x 2 columns]"
      ]
     },
     "execution_count": 5,
     "metadata": {},
     "output_type": "execute_result"
    }
   ],
   "source": [
    "future_df = my_chronos.make_future_dataframe(period=31, frequency='D')\n",
    "future_df"
   ]
  },
  {
   "cell_type": "code",
   "execution_count": 6,
   "metadata": {},
   "outputs": [
    {
     "name": "stdout",
     "output_type": "stream",
     "text": [
      "Prediction no: 1000\r"
     ]
    },
    {
     "data": {
      "text/html": [
       "<div>\n",
       "<style scoped>\n",
       "    .dataframe tbody tr th:only-of-type {\n",
       "        vertical-align: middle;\n",
       "    }\n",
       "\n",
       "    .dataframe tbody tr th {\n",
       "        vertical-align: top;\n",
       "    }\n",
       "\n",
       "    .dataframe thead th {\n",
       "        text-align: right;\n",
       "    }\n",
       "</style>\n",
       "<table border=\"1\" class=\"dataframe\">\n",
       "  <thead>\n",
       "    <tr style=\"text-align: right;\">\n",
       "      <th></th>\n",
       "      <th>ds</th>\n",
       "      <th>y</th>\n",
       "      <th>yhat</th>\n",
       "      <th>yhat_upper</th>\n",
       "      <th>yhat_lower</th>\n",
       "      <th>trend</th>\n",
       "      <th>trend_upper</th>\n",
       "      <th>trend_lower</th>\n",
       "    </tr>\n",
       "  </thead>\n",
       "  <tbody>\n",
       "    <tr>\n",
       "      <th>0</th>\n",
       "      <td>2018-12-26</td>\n",
       "      <td>38.379425</td>\n",
       "      <td>37.618591</td>\n",
       "      <td>45.774536</td>\n",
       "      <td>27.628546</td>\n",
       "      <td>38.136883</td>\n",
       "      <td>38.136993</td>\n",
       "      <td>38.136993</td>\n",
       "    </tr>\n",
       "    <tr>\n",
       "      <th>1</th>\n",
       "      <td>2018-12-27</td>\n",
       "      <td>38.130344</td>\n",
       "      <td>37.805542</td>\n",
       "      <td>45.354382</td>\n",
       "      <td>29.392111</td>\n",
       "      <td>38.200806</td>\n",
       "      <td>38.201050</td>\n",
       "      <td>38.201050</td>\n",
       "    </tr>\n",
       "    <tr>\n",
       "      <th>2</th>\n",
       "      <td>2018-12-28</td>\n",
       "      <td>38.149883</td>\n",
       "      <td>38.306305</td>\n",
       "      <td>47.253933</td>\n",
       "      <td>30.139652</td>\n",
       "      <td>38.265488</td>\n",
       "      <td>38.265102</td>\n",
       "      <td>38.265102</td>\n",
       "    </tr>\n",
       "    <tr>\n",
       "      <th>3</th>\n",
       "      <td>2018-12-31</td>\n",
       "      <td>38.518612</td>\n",
       "      <td>38.147621</td>\n",
       "      <td>45.413528</td>\n",
       "      <td>29.371494</td>\n",
       "      <td>38.457619</td>\n",
       "      <td>38.457272</td>\n",
       "      <td>38.457272</td>\n",
       "    </tr>\n",
       "    <tr>\n",
       "      <th>4</th>\n",
       "      <td>2019-01-02</td>\n",
       "      <td>38.562561</td>\n",
       "      <td>38.519650</td>\n",
       "      <td>46.390842</td>\n",
       "      <td>30.882530</td>\n",
       "      <td>38.585068</td>\n",
       "      <td>38.585377</td>\n",
       "      <td>38.585377</td>\n",
       "    </tr>\n",
       "  </tbody>\n",
       "</table>\n",
       "</div>"
      ],
      "text/plain": [
       "          ds          y       yhat  yhat_upper  yhat_lower      trend  \\\n",
       "0 2018-12-26  38.379425  37.618591   45.774536   27.628546  38.136883   \n",
       "1 2018-12-27  38.130344  37.805542   45.354382   29.392111  38.200806   \n",
       "2 2018-12-28  38.149883  38.306305   47.253933   30.139652  38.265488   \n",
       "3 2018-12-31  38.518612  38.147621   45.413528   29.371494  38.457619   \n",
       "4 2019-01-02  38.562561  38.519650   46.390842   30.882530  38.585068   \n",
       "\n",
       "   trend_upper  trend_lower  \n",
       "0    38.136993    38.136993  \n",
       "1    38.201050    38.201050  \n",
       "2    38.265102    38.265102  \n",
       "3    38.457272    38.457272  \n",
       "4    38.585377    38.585377  "
      ]
     },
     "execution_count": 6,
     "metadata": {},
     "output_type": "execute_result"
    }
   ],
   "source": [
    "predictions = my_chronos.predict(future_df, sample_number=1000)\n",
    "predictions.head()"
   ]
  },
  {
   "cell_type": "code",
   "execution_count": 7,
   "metadata": {},
   "outputs": [
    {
     "name": "stderr",
     "output_type": "stream",
     "text": [
      "/Users/borisbshabash/Documents/new_repos/Chronos/chronos_plotting.py:134: UserWarning: This figure includes Axes that are not compatible with tight_layout, so results might be incorrect.\n",
      "  plt.savefig(figure_name, dpi=96*4)#'''\n",
      "/anaconda3/envs/pyroenv/lib/python3.8/site-packages/IPython/core/pylabtools.py:132: UserWarning: This figure includes Axes that are not compatible with tight_layout, so results might be incorrect.\n",
      "  fig.canvas.print_figure(bytes_io, **kw)\n"
     ]
    },
    {
     "data": {
      "image/png": "[encoded data removed]",
      "text/plain": [
       "<Figure size 1080x1080 with 7 Axes>"
      ]
     },
     "metadata": {
      "needs_background": "light"
     },
     "output_type": "display_data"
    }
   ],
   "source": [
    "chronos_plotting.plot_components(predictions, my_chronos, figure_name=\"AAPL.png\");"
   ]
  },
  {
   "cell_type": "code",
   "execution_count": null,
   "metadata": {},
   "outputs": [],
   "source": []
  },
  {
   "cell_type": "code",
   "execution_count": null,
   "metadata": {},
   "outputs": [],
   "source": []
  }
 ],
 "metadata": {
  "hide_input": false,
  "kernelspec": {
   "display_name": "Python 3",
   "language": "python",
   "name": "python3"
  },
  "language_info": {
   "codemirror_mode": {
    "name": "ipython",
    "version": 3
   },
   "file_extension": ".py",
   "mimetype": "text/x-python",
   "name": "python",
   "nbconvert_exporter": "python",
   "pygments_lexer": "ipython3",
   "version": "3.8.3"
  }
 },
 "nbformat": 4,
 "nbformat_minor": 4
}
