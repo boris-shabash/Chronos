{
 "cells": [
  {
   "cell_type": "markdown",
   "metadata": {},
   "source": [
    "# Creating the Chronos class\n",
    "\n",
    "There should be a few specs for this method:\n",
    "\n",
    "* Should have a scikit-learn like interface (fit, predict)\n",
    "* Should have support for MLE, MAP, MCMC, and SVI\n",
    "* Parameters should be easy to grab\n",
    "* Should support arbitrary error distributions\n",
    "* Should support censored data"
   ]
  },
  {
   "cell_type": "code",
   "execution_count": null,
   "metadata": {},
   "outputs": [],
   "source": []
  }
 ],
 "metadata": {
  "hide_input": false,
  "kernelspec": {
   "display_name": "Python 3",
   "language": "python",
   "name": "python3"
  },
  "language_info": {
   "codemirror_mode": {
    "name": "ipython",
    "version": 3
   },
   "file_extension": ".py",
   "mimetype": "text/x-python",
   "name": "python",
   "nbconvert_exporter": "python",
   "pygments_lexer": "ipython3",
   "version": "3.8.5"
  }
 },
 "nbformat": 4,
 "nbformat_minor": 4
}
