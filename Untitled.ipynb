{
 "cells": [
  {
   "cell_type": "code",
   "execution_count": 15,
   "metadata": {},
   "outputs": [],
   "source": [
    "import numpy as np\n",
    "import matplotlib.pyplot as plt"
   ]
  },
  {
   "cell_type": "code",
   "execution_count": 33,
   "metadata": {},
   "outputs": [],
   "source": [
    "\n",
    "k = 0.0006\n",
    "m = -1.0845\n",
    "\n",
    "A = np.array([[0.],\n",
    "        [0.],\n",
    "        [1.],\n",
    "        [1.]])\n",
    "\n",
    "delta = np.array([-8.9148e-05])\n",
    "gamma = np.array([0.2072])"
   ]
  },
  {
   "cell_type": "code",
   "execution_count": 29,
   "metadata": {},
   "outputs": [],
   "source": [
    "t = np.array([16235., 16236., 16237., 16238.])"
   ]
  },
  {
   "cell_type": "code",
   "execution_count": 30,
   "metadata": {},
   "outputs": [
    {
     "data": {
      "text/plain": [
       "array([7.3901    , 7.3909    , 7.33002454, 7.33082004])"
      ]
     },
     "execution_count": 30,
     "metadata": {},
     "output_type": "execute_result"
    }
   ],
   "source": [
    "y = (k + np.matmul(A, delta)) * t + (m + np.matmul(A, gamma))\n",
    "y"
   ]
  },
  {
   "cell_type": "code",
   "execution_count": 31,
   "metadata": {},
   "outputs": [
    {
     "data": {
      "text/plain": [
       "<matplotlib.collections.PathCollection at 0x1221ee610>"
      ]
     },
     "execution_count": 31,
     "metadata": {},
     "output_type": "execute_result"
    },
    {
     "data": {
      "image/png": "[encoded data removed]",
      "text/plain": [
       "<Figure size 432x288 with 1 Axes>"
      ]
     },
     "metadata": {
      "needs_background": "light"
     },
     "output_type": "display_data"
    }
   ],
   "source": [
    "plt.scatter(t, y)"
   ]
  },
  {
   "cell_type": "raw",
   "metadata": {},
   "source": [
    "------------\n",
    "\n",
    "started at 855 lines"
   ]
  },
  {
   "cell_type": "raw",
   "metadata": {},
   "source": [
    "class Chronos:\n",
    "    \n",
    "    \n",
    "    \n",
    "    def get_seasonal_plotly_figure\n",
    "    \n",
    "    def plot_weekly_seasonality_plotly\n",
    "    \n",
    "    def plot_monthly_seasonality_plotly\n",
    "    \n",
    "    def plot_yearly_seasonality_plotly"
   ]
  },
  {
   "cell_type": "raw",
   "metadata": {},
   "source": [
    "class Chronos:\n",
    "    \n",
    "    \n",
    "    def __init__\n",
    "        \n",
    "    def transform_data_\n",
    "                \n",
    "    def find_changepoint_positions\n",
    "        \n",
    "    def make_A_matrix\n",
    "\n",
    "    def fit\n",
    "        \n",
    "    def train_MCMC\n",
    "    \n",
    "    def train_point_estimate\n",
    "    \n",
    "    def combine_components\n",
    "    \n",
    "    def model_MLE_\n",
    "    \n",
    "    def guide_MLE_\n",
    "    \n",
    "    def get_trend\n",
    "    \n",
    "    def model_MAP_\n",
    "    \n",
    "    def model_MAP_gamma\n",
    "        \n",
    "    def predict\n",
    "\n",
    "    def make_future_dataframe\n",
    "    \n",
    "    def compute_seasonality\n",
    "    \n",
    "    def get_weekly_seasonality\n",
    "    \n",
    "    def get_seasonal_params\n",
    "    \n",
    "    def get_seasonal_plotly_figure\n",
    "    \n",
    "    def get_weekly_seasonality_point\n",
    "    \n",
    "    def plot_components\n",
    "    \n",
    "    def plot_weekly_seasonality\n",
    "    \n",
    "    def plot_weekly_seasonality_plotly\n",
    "    \n",
    "    def get_monthly_seasonality\n",
    "    \n",
    "    def get_monthly_seasonality_point\n",
    "    \n",
    "    def plot_monthly_seasonality\n",
    "    \n",
    "    def plot_monthly_seasonality_plotly\n",
    "    \n",
    "    def get_yearly_seasonality\n",
    "    \n",
    "    def get_yearly_seasonality_point\n",
    "    \n",
    "    def plot_yearly_seasonality\n",
    "    \n",
    "    def plot_yearly_seasonality_plotly"
   ]
  },
  {
   "cell_type": "code",
   "execution_count": null,
   "metadata": {},
   "outputs": [],
   "source": []
  }
 ],
 "metadata": {
  "hide_input": false,
  "kernelspec": {
   "display_name": "Python 3",
   "language": "python",
   "name": "python3"
  },
  "language_info": {
   "codemirror_mode": {
    "name": "ipython",
    "version": 3
   },
   "file_extension": ".py",
   "mimetype": "text/x-python",
   "name": "python",
   "nbconvert_exporter": "python",
   "pygments_lexer": "ipython3",
   "version": "3.8.3"
  }
 },
 "nbformat": 4,
 "nbformat_minor": 4
}
